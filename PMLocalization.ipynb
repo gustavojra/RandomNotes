{
 "cells": [
  {
   "cell_type": "markdown",
   "id": "8a91f1b4",
   "metadata": {},
   "source": [
    "# Jacobi Rotations for the Pipek-Mezey localization Method\n",
    "\n",
    "- Defining the functional\n",
    "\n",
    "$P = \\sum_i \\sum_A (q_i^A)^2$\n",
    "\n",
    "We define a pair wise rotation between two orbitals $|i\\rangle$ and $|j\\rangle$ such that\n",
    "\n",
    "$C_{\\mu \\tilde{i}} = \\cos(\\theta)C_{\\mu i} + \\sin(\\theta)C_{\\mu j}$\n",
    "\n",
    "$C_{\\mu \\tilde{j}} = -\\sin(\\theta)C_{\\mu i} + \\cos(\\theta)C_{\\mu j}$\n",
    "\n",
    "Maximizing $P$ leads to\n",
    "\n",
    "$\\frac{dP}{d\\theta} = 0$\n",
    "\n",
    "For which only terms involving orbitals $\\tilde{i}$ and $\\tilde{j}$ remain\n",
    "\n",
    "$\\frac{dP}{d\\theta} = \\sum_A \\frac{d}{d\\theta}(q_\\tilde{i}^A)^2  + \\frac{d}{d\\theta}(q_\\tilde{j}^A)^2$"
   ]
  },
  {
   "cell_type": "markdown",
   "id": "eb951e35",
   "metadata": {},
   "source": [
    "where\n",
    "\n",
    "$q_\\tilde{i}^A = \\sum_{\\mu \\in A} \\sum_\\nu C_{\\mu \\tilde{i}}\\cdot C_{\\tilde{i}\\nu} \\cdot S_{\\nu \\mu}$ \n",
    "\n",
    "$q_\\tilde{i}^A = \\sum_{\\mu \\in A} \\sum_\\nu (\\cos(\\theta)C_{\\mu i} + \\sin(\\theta)C_{\\mu j})\\cdot (\\cos(\\theta)C_{i \\nu} + \\sin(\\theta)C_{j \\nu}) \\cdot S_{\\nu \\mu}$ \n",
    "\n",
    "$q_\\tilde{i}^A = \\cos^2(\\theta)\\sum_{\\mu \\in A} \\sum_\\nu C_{\\mu i} C_{i \\nu} S_{\\nu \\mu} + \\sin^2(\\theta)\\sum_{\\mu \\in A} \\sum_\\nu C_{\\mu j} C_{j \\nu} S_{\\nu \\mu} + \\cos(\\theta)\\sin(\\theta)\\sum_{\\mu \\in A} \\sum_\\nu (C_{\\mu i} C_{j \\nu} S_{\\nu \\mu} + C_{\\mu j} C_{i \\nu} S_{\\nu \\mu})$\n",
    "\n",
    "similarly\n",
    "\n",
    "$q_\\tilde{j}^A = \\sum_{\\mu \\in A} \\sum_\\nu C_{\\mu \\tilde{j}}\\cdot C_{\\tilde{j}\\nu} \\cdot S_{\\nu \\mu}$ \n",
    "\n",
    "$q_\\tilde{j}^A = \\sum_{\\mu \\in A} \\sum_\\nu (-\\sin(\\theta)C_{\\mu i} + \\cos(\\theta)C_{\\mu j})\\cdot (-\\sin(\\theta)C_{i \\nu} + \\cos(\\theta)C_{j \\nu}) \\cdot S_{\\nu \\mu}$ \n",
    "\n",
    "$q_\\tilde{j}^A = \\sin^2(\\theta) \\sum_{\\mu \\in A} \\sum_\\nu C_{\\mu i} \\cdot C_{i \\nu} \\cdot S_{\\nu \\mu} + \\cos^2(\\theta) \\sum_{\\mu \\in A} \\sum_\\nu C_{\\mu j} \\cdot C_{j \\nu} \\cdot S_{\\nu \\mu} -\\cos(\\theta)\\sin(\\theta) \\sum_{\\mu \\in A} \\sum_\\nu(C_{\\mu i} C_{j \\nu} S_{\\nu \\mu} + C_{\\mu j} C_{i \\nu} S_{\\nu \\mu}) $"
   ]
  },
  {
   "cell_type": "markdown",
   "id": "ef6fc052",
   "metadata": {},
   "source": [
    "### Define\n",
    "\n",
    "$Q^A_i = \\sum_{\\mu \\in A}\\sum_\\nu C_{\\mu i} C_{i \\nu} S_{\\nu \\mu}$\n",
    "\n",
    "$Q^A_j = \\sum_{\\mu \\in A}\\sum_\\nu C_{\\mu j} C_{j \\nu} S_{\\nu \\mu}$\n",
    "\n",
    "$Q^A_{ij} = \\sum_{\\mu \\in A} \\sum_\\nu (C_{\\mu i} C_{j \\nu} S_{\\nu \\mu} + C_{\\mu j} C_{i \\nu} S_{\\nu \\mu})$\n",
    "\n",
    "then\n",
    "\n",
    "$q_\\tilde{i}^A = \\cos^2(\\theta)Q^A_{i} + \\sin^2(\\theta)Q^A_{j} + \\cos(\\theta)\\sin(\\theta)Q^A_{ij}$\n",
    "\n",
    "$q_\\tilde{j}^A = \\sin^2(\\theta)Q^A_{i} + \\cos^2(\\theta)Q^A_{j} - \\cos(\\theta)\\sin(\\theta)Q^A_{ij}$"
   ]
  },
  {
   "cell_type": "code",
   "execution_count": 3,
   "id": "de691650",
   "metadata": {},
   "outputs": [
    {
     "data": {
      "text/latex": [
       "\\begin{equation}\n",
       "\\sin^{2}\\left( \\theta \\right) Qi + \\cos^{2}\\left( \\theta \\right) Qj - Qij \\cos\\left( \\theta \\right) \\sin\\left( \\theta \\right)\n",
       "\\end{equation}\n"
      ],
      "text/plain": [
       "Qi*(sin(θ)^2) + Qj*(cos(θ)^2) - Qij*cos(θ)*sin(θ)"
      ]
     },
     "execution_count": 3,
     "metadata": {},
     "output_type": "execute_result"
    }
   ],
   "source": [
    "using Symbolics\n",
    "@variables Qi Qj Qij θ\n",
    "∂ = Differential(θ)\n",
    "qia = Qi*cos(θ)^2 + Qj*sin(θ)^2 + cos(θ)*sin(θ)*Qij\n",
    "qja = Qj*cos(θ)^2 + Qi*sin(θ)^2 - cos(θ)*sin(θ)*Qij"
   ]
  },
  {
   "cell_type": "code",
   "execution_count": 4,
   "id": "e9cfd21a",
   "metadata": {},
   "outputs": [
    {
     "data": {
      "text/latex": [
       "\\begin{equation}\n",
       "\\left( 2 \\cos^{2}\\left( \\theta \\right) Qi + 2 \\sin^{2}\\left( \\theta \\right) Qj + 2 Qij \\cos\\left( \\theta \\right) \\sin\\left( \\theta \\right) \\right) \\left( \\cos^{2}\\left( \\theta \\right) Qij - \\sin^{2}\\left( \\theta \\right) Qij - 2 Qi \\cos\\left( \\theta \\right) \\sin\\left( \\theta \\right) + 2 Qj \\cos\\left( \\theta \\right) \\sin\\left( \\theta \\right) \\right) + \\left( 2 \\sin^{2}\\left( \\theta \\right) Qi + 2 \\cos^{2}\\left( \\theta \\right) Qj - 2 Qij \\cos\\left( \\theta \\right) \\sin\\left( \\theta \\right) \\right) \\left( \\sin^{2}\\left( \\theta \\right) Qij - \\cos^{2}\\left( \\theta \\right) Qij + 2 Qi \\cos\\left( \\theta \\right) \\sin\\left( \\theta \\right) - 2 Qj \\cos\\left( \\theta \\right) \\sin\\left( \\theta \\right) \\right)\n",
       "\\end{equation}\n"
      ],
      "text/plain": [
       "(2Qi*(cos(θ)^2) + 2Qj*(sin(θ)^2) + 2Qij*cos(θ)*sin(θ))*(Qij*(cos(θ)^2) + 2Qj*cos(θ)*sin(θ) - Qij*(sin(θ)^2) - 2Qi*cos(θ)*sin(θ)) + (2Qi*(sin(θ)^2) + 2Qj*(cos(θ)^2) - 2Qij*cos(θ)*sin(θ))*(Qij*(sin(θ)^2) + 2Qi*cos(θ)*sin(θ) - Qij*(cos(θ)^2) - 2Qj*cos(θ)*sin(θ))"
      ]
     },
     "execution_count": 4,
     "metadata": {},
     "output_type": "execute_result"
    }
   ],
   "source": [
    "dP = ∂(qia^2) + ∂(qja^2) |> expand_derivatives"
   ]
  },
  {
   "cell_type": "markdown",
   "id": "9d7d315c",
   "metadata": {},
   "source": [
    "## Simplified Expression (by hand 😥)"
   ]
  },
  {
   "cell_type": "code",
   "execution_count": 8,
   "id": "297a8bab",
   "metadata": {},
   "outputs": [
    {
     "data": {
      "text/latex": [
       "\\begin{equation}\n",
       "\\left( Qij^{2} - \\left( Qi - Qj \\right)^{2} \\right) \\sin\\left( 4 \\theta \\right) + 2 Qij \\left( Qi - Qj \\right) \\cos\\left( 4 \\theta \\right)\n",
       "\\end{equation}\n"
      ],
      "text/plain": [
       "(Qij^2 - ((Qi - Qj)^2))*sin(4θ) + 2Qij*(Qi - Qj)*cos(4θ)"
      ]
     },
     "execution_count": 8,
     "metadata": {},
     "output_type": "execute_result"
    }
   ],
   "source": [
    "handsimp = 2*Qij*(Qi-Qj)*cos(4θ) + (Qij^2 - (Qi - Qj)^2)*sin(4θ)"
   ]
  },
  {
   "cell_type": "markdown",
   "id": "42d87298",
   "metadata": {},
   "source": [
    "### Thus\n",
    "\n",
    "$\\frac{dP}{d\\theta} = \\sum_A 2Q^A_{ij}(Q^A_i - Q^A_j)\\cos(4\\theta) + [(Q^A_{ij})^2 - (Q^A_i - Q^A_j)^2]\\sin(4\\theta)$"
   ]
  },
  {
   "cell_type": "markdown",
   "id": "c4634c06",
   "metadata": {},
   "source": [
    "### Verify numerically the equivalent between the raw equation and the hand simplified one"
   ]
  },
  {
   "cell_type": "code",
   "execution_count": 18,
   "id": "6dc53acf",
   "metadata": {},
   "outputs": [
    {
     "data": {
      "text/plain": [
       "0.0"
      ]
     },
     "execution_count": 18,
     "metadata": {},
     "output_type": "execute_result"
    }
   ],
   "source": [
    "N = 1000\n",
    "xvals = zeros(N)\n",
    "for θval = collect(2π*(0:N)/N)\n",
    "    qival = randn()\n",
    "    qjval = randn()\n",
    "    qijval = randn()\n",
    "    x = substitute(dP, Dict([θ => θval, Qi=>qival, Qj=>qjval, Qij=>qijval]))\n",
    "    y = substitute(handsimp, Dict([θ => θval, Qi=>qival, Qj=>qjval, Qij=>qijval]))\n",
    "    xvals[N] = abs(x.val - y.val)\n",
    "end\n",
    "maximum(xvals)"
   ]
  },
  {
   "cell_type": "markdown",
   "id": "87eed081",
   "metadata": {},
   "source": [
    "### Define\n",
    "\n",
    "$A = 2\\sum_{A} Q^A_{ij}(Q^A_i - Q^A_j)$\n",
    "\n",
    "$B = \\sum_A (Q^A_{ij})^2 - (Q^A_i - Q^A_j)^2$\n",
    "\n",
    "then\n",
    "\n",
    "$\\frac{dP}{d\\theta} = A\\cos(4\\theta) + B\\sin(4\\theta)$\n",
    "\n",
    "$\\tan(4\\theta_\\text{max}) = -\\frac{A}{B}$"
   ]
  },
  {
   "cell_type": "markdown",
   "id": "41af2d8e",
   "metadata": {},
   "source": [
    "### Verify numerically that the angle above is a root of $\\frac{dP}{d\\theta}$"
   ]
  },
  {
   "cell_type": "code",
   "execution_count": 19,
   "id": "bd868562",
   "metadata": {},
   "outputs": [
    {
     "data": {
      "text/plain": [
       "A (generic function with 1 method)"
      ]
     },
     "execution_count": 19,
     "metadata": {},
     "output_type": "execute_result"
    }
   ],
   "source": [
    "function A(Qij, Qi, Qj)\n",
    "    N = length(Qij)\n",
    "    2*sum(\n",
    "        Qij[i]*(Qi[i] - Qj[i]) for i = 1:N\n",
    "    )\n",
    "end"
   ]
  },
  {
   "cell_type": "code",
   "execution_count": 20,
   "id": "d69153c6",
   "metadata": {
    "scrolled": true
   },
   "outputs": [
    {
     "data": {
      "text/plain": [
       "B (generic function with 1 method)"
      ]
     },
     "execution_count": 20,
     "metadata": {},
     "output_type": "execute_result"
    }
   ],
   "source": [
    "function B(Qij, Qi, Qj)\n",
    "    N = length(Qij)\n",
    "    sum(\n",
    "        Qij[i]^2 - (Qi[i] - Qj[i])^2 for i = 1:N\n",
    "    )\n",
    "end"
   ]
  },
  {
   "cell_type": "code",
   "execution_count": 21,
   "id": "06641533",
   "metadata": {},
   "outputs": [
    {
     "data": {
      "text/plain": [
       "1.1102230246251565e-14"
      ]
     },
     "execution_count": 21,
     "metadata": {},
     "output_type": "execute_result"
    }
   ],
   "source": [
    "N = 1000\n",
    "qival = rand(N)\n",
    "qjval = rand(N)\n",
    "qijval = rand(N)\n",
    "Aval = A(qijval, qival, qjval)\n",
    "Bval = B(qijval, qival, qjval)\n",
    "α = atan(-Aval/Bval)/4\n",
    "s = 0.0\n",
    "for i = 1:N\n",
    "    x = substitute(dP, Dict([θ => α, Qi=>qival[i], Qj=>qjval[i], Qij=>qijval[i]]))\n",
    "    s += x.val\n",
    "end\n",
    "s"
   ]
  }
 ],
 "metadata": {
  "kernelspec": {
   "display_name": "Julia 1.6.1",
   "language": "julia",
   "name": "julia-1.6"
  },
  "language_info": {
   "file_extension": ".jl",
   "mimetype": "application/julia",
   "name": "julia",
   "version": "1.7.0"
  }
 },
 "nbformat": 4,
 "nbformat_minor": 5
}
