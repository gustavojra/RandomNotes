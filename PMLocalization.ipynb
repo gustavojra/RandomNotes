{
 "cells": [
  {
   "cell_type": "markdown",
   "id": "8a91f1b4",
   "metadata": {},
   "source": [
    "# Jacobi Rotations for the Pipek-Mezey localization Method\n",
    "\n",
    "- Defining the functional\n",
    "\n",
    "$P = \\sum_i \\sum_A (q_i^A)^2$\n",
    "\n",
    "We define a pair wise rotation between two orbitals $|i\\rangle$ and $|j\\rangle$ such that\n",
    "\n",
    "$C_{\\mu \\tilde{i}} = \\cos(\\theta)C_{\\mu i} + \\sin(\\theta)C_{\\mu j}$\n",
    "\n",
    "$C_{\\mu \\tilde{j}} = -\\sin(\\theta)C_{\\mu i} + \\cos(\\theta)C_{\\mu j}$\n",
    "\n",
    "Maximizing $P$ leads to\n",
    "\n",
    "$\\frac{dP}{d\\theta} = 0$\n",
    "\n",
    "For which only terms involving orbitals $\\tilde{i}$ and $\\tilde{j}$ remain\n",
    "\n",
    "$\\frac{dP}{d\\theta} = \\sum_A \\frac{d}{d\\theta}(q_\\tilde{i}^A)^2  + \\frac{d}{d\\theta}(q_\\tilde{j}^A)^2$\n",
    "\n",
    "$q_\\tilde{i}^A = \\sum_{\\mu \\in A} \\sum_\\nu C_{\\mu \\tilde{i}}\\cdot C_{\\tilde{i}\\nu} \\cdot S_{\\nu \\mu}$ \n",
    "\n",
    "$q_\\tilde{i}^A = \\sum_{\\mu \\in A} \\sum_\\nu (\\cos(\\theta)C_{\\mu i} + \\sin(\\theta)C_{\\mu j})\\cdot (\\cos(\\theta)C_{i \\nu} + \\sin(\\theta)C_{j \\nu}) \\cdot S_{\\nu \\mu}$ "
   ]
  },
  {
   "cell_type": "markdown",
   "id": "ef6fc052",
   "metadata": {},
   "source": [
    "$q_\\tilde{i}^A = \\cos^2(\\theta)\\sum_{\\mu \\in A} \\sum_\\nu C_{\\mu i} C_{i \\nu} S_{\\nu \\mu} + \\sin^2(\\theta)\\sum_{\\mu \\in A} \\sum_\\nu C_{\\mu j} C_{j \\nu} S_{\\nu \\mu} + \\cos(\\theta)\\sin(\\theta)\\sum_{\\mu \\in A} \\sum_\\nu (C_{\\mu i} C_{j \\nu} S_{\\nu \\mu} + C_{\\mu j} C_{i \\nu} S_{\\nu \\mu})$\n",
    "\n",
    "### Define\n",
    "\n",
    "$Q^A_i = \\sum_{\\mu \\in A}\\sum_\\nu C_{\\mu i} C_{i \\nu} S_{\\nu \\mu}$\n",
    "\n",
    "$Q^A_j = \\sum_{\\mu \\in A}\\sum_\\nu C_{\\mu j} C_{j \\nu} S_{\\nu \\mu}$\n",
    "\n",
    "$Q^A_{ij} = \\sum_{\\mu \\in A} \\sum_\\nu (C_{\\mu i} C_{j \\nu} S_{\\nu \\mu} + C_{\\mu j} C_{i \\nu} S_{\\nu \\mu})$"
   ]
  },
  {
   "cell_type": "markdown",
   "id": "957ff615",
   "metadata": {},
   "source": [
    "$q_\\tilde{i}^A = \\cos^2(\\theta)Q^A_{i} + \\sin^2(\\theta)Q^A_{j} + \\cos(\\theta)\\sin(\\theta)Q^A_{ij}$"
   ]
  },
  {
   "cell_type": "code",
   "execution_count": 6,
   "id": "de691650",
   "metadata": {},
   "outputs": [],
   "source": [
    "using Symbolics"
   ]
  },
  {
   "cell_type": "code",
   "execution_count": 7,
   "id": "8a013d3e",
   "metadata": {},
   "outputs": [
    {
     "data": {
      "text/latex": [
       "\\begin{equation}\n",
       "\\left[\n",
       "\\begin{array}{c}\n",
       "Qi \\\\\n",
       "Qj \\\\\n",
       "Qij \\\\\n",
       "\\theta \\\\\n",
       "\\end{array}\n",
       "\\right]\n",
       "\\end{equation}\n"
      ],
      "text/plain": [
       "4-element Vector{Num}:\n",
       "  Qi\n",
       "  Qj\n",
       " Qij\n",
       "   θ"
      ]
     },
     "execution_count": 7,
     "metadata": {},
     "output_type": "execute_result"
    }
   ],
   "source": [
    "@variables Qi Qj Qij θ"
   ]
  },
  {
   "cell_type": "code",
   "execution_count": 17,
   "id": "e3e40129",
   "metadata": {},
   "outputs": [
    {
     "data": {
      "text/latex": [
       "\\begin{equation}\n",
       "\\cos^{2}\\left( \\theta \\right) Qi + \\sin^{2}\\left( \\theta \\right) Qj + Qij \\cos\\left( \\theta \\right) \\sin\\left( \\theta \\right)\n",
       "\\end{equation}\n"
      ],
      "text/plain": [
       "Qi*(cos(θ)^2) + Qj*(sin(θ)^2) + Qij*cos(θ)*sin(θ)"
      ]
     },
     "execution_count": 17,
     "metadata": {},
     "output_type": "execute_result"
    }
   ],
   "source": [
    "qia = Qi*cos(θ)^2 + Qj*sin(θ)^2 + cos(θ)*sin(θ)*Qij"
   ]
  },
  {
   "cell_type": "code",
   "execution_count": 15,
   "id": "bf3abaf3",
   "metadata": {},
   "outputs": [
    {
     "data": {
      "text/latex": [
       "\\begin{equation}\n",
       "\\sin^{2}\\left( \\theta \\right) Qi + \\cos^{2}\\left( \\theta \\right) Qj - Qij \\cos\\left( \\theta \\right) \\sin\\left( \\theta \\right)\n",
       "\\end{equation}\n"
      ],
      "text/plain": [
       "Qi*(sin(θ)^2) + Qj*(cos(θ)^2) - Qij*cos(θ)*sin(θ)"
      ]
     },
     "execution_count": 15,
     "metadata": {},
     "output_type": "execute_result"
    }
   ],
   "source": [
    "qja = Qj*cos(θ)^2 + Qi*sin(θ)^2 - cos(θ)*sin(θ)*Qij"
   ]
  },
  {
   "cell_type": "code",
   "execution_count": 12,
   "id": "3bffcc8d",
   "metadata": {},
   "outputs": [
    {
     "data": {
      "text/plain": [
       "(::Differential) (generic function with 2 methods)"
      ]
     },
     "execution_count": 12,
     "metadata": {},
     "output_type": "execute_result"
    }
   ],
   "source": [
    "∂ = Differential(θ)"
   ]
  },
  {
   "cell_type": "code",
   "execution_count": 24,
   "id": "e9cfd21a",
   "metadata": {},
   "outputs": [
    {
     "data": {
      "text/latex": [
       "\\begin{equation}\n",
       "\\left( 2 \\cos^{2}\\left( \\theta \\right) Qi + 2 \\sin^{2}\\left( \\theta \\right) Qj + 2 Qij \\cos\\left( \\theta \\right) \\sin\\left( \\theta \\right) \\right) \\left( \\cos^{2}\\left( \\theta \\right) Qij - \\sin^{2}\\left( \\theta \\right) Qij - 2 Qi \\cos\\left( \\theta \\right) \\sin\\left( \\theta \\right) + 2 Qj \\cos\\left( \\theta \\right) \\sin\\left( \\theta \\right) \\right) + \\left( 2 \\sin^{2}\\left( \\theta \\right) Qi + 2 \\cos^{2}\\left( \\theta \\right) Qj - 2 Qij \\cos\\left( \\theta \\right) \\sin\\left( \\theta \\right) \\right) \\left( \\sin^{2}\\left( \\theta \\right) Qij - \\cos^{2}\\left( \\theta \\right) Qij + 2 Qi \\cos\\left( \\theta \\right) \\sin\\left( \\theta \\right) - 2 Qj \\cos\\left( \\theta \\right) \\sin\\left( \\theta \\right) \\right)\n",
       "\\end{equation}\n"
      ],
      "text/plain": [
       "(2Qi*(cos(θ)^2) + 2Qj*(sin(θ)^2) + 2Qij*cos(θ)*sin(θ))*(Qij*(cos(θ)^2) + 2Qj*cos(θ)*sin(θ) - Qij*(sin(θ)^2) - 2Qi*cos(θ)*sin(θ)) + (2Qi*(sin(θ)^2) + 2Qj*(cos(θ)^2) - 2Qij*cos(θ)*sin(θ))*(Qij*(sin(θ)^2) + 2Qi*cos(θ)*sin(θ) - Qij*(cos(θ)^2) - 2Qj*cos(θ)*sin(θ))"
      ]
     },
     "execution_count": 24,
     "metadata": {},
     "output_type": "execute_result"
    }
   ],
   "source": [
    "dP = ∂(qia^2) + ∂(qja^2) |> expand_derivatives"
   ]
  },
  {
   "cell_type": "code",
   "execution_count": 161,
   "id": "41b2ba97",
   "metadata": {
    "scrolled": true
   },
   "outputs": [
    {
     "data": {
      "text/latex": [
       "\\begin{equation}\n",
       "Qij Qj \\left(  - \\cos^{4}\\left( \\theta \\right) - \\sin^{4}\\left( \\theta \\right) \\right) + Qi Qij \\left( \\cos^{4}\\left( \\theta \\right) + \\sin^{4}\\left( \\theta \\right) \\right) + 2 \\sin^{3}\\left( \\theta \\right) Qi^{2} \\cos\\left( \\theta \\right) - 2 \\cos^{3}\\left( \\theta \\right) Qi^{2} \\sin\\left( \\theta \\right) - 2 \\sin^{3}\\left( \\theta \\right) Qij^{2} \\cos\\left( \\theta \\right) + 2 \\sin^{3}\\left( \\theta \\right) Qj^{2} \\cos\\left( \\theta \\right) + 2 \\cos^{3}\\left( \\theta \\right) Qij^{2} \\sin\\left( \\theta \\right) - 2 \\cos^{3}\\left( \\theta \\right) Qj^{2} \\sin\\left( \\theta \\right) - 4 \\sin^{3}\\left( \\theta \\right) Qi Qj \\cos\\left( \\theta \\right) - 6 \\sin^{2}\\left( \\theta \\right) \\cos^{2}\\left( \\theta \\right) Qi Qij + 6 \\sin^{2}\\left( \\theta \\right) \\cos^{2}\\left( \\theta \\right) Qij Qj + 4 \\cos^{3}\\left( \\theta \\right) Qi Qj \\sin\\left( \\theta \\right)\n",
       "\\end{equation}\n"
      ],
      "text/plain": [
       "Qij*Qj*(-(cos(θ)^4) - (sin(θ)^4)) + Qi*Qij*(cos(θ)^4 + sin(θ)^4) + 2(Qi^2)*(sin(θ)^3)*cos(θ) + 2(Qj^2)*(sin(θ)^3)*cos(θ) + 2(Qij^2)*(cos(θ)^3)*sin(θ) + 6Qij*Qj*(cos(θ)^2)*(sin(θ)^2) + 4Qi*Qj*(cos(θ)^3)*sin(θ) - 2(Qi^2)*(cos(θ)^3)*sin(θ) - 2(Qij^2)*(sin(θ)^3)*cos(θ) - 2(Qj^2)*(cos(θ)^3)*sin(θ) - 4Qi*Qj*(sin(θ)^3)*cos(θ) - 6Qi*Qij*(cos(θ)^2)*(sin(θ)^2)"
      ]
     },
     "execution_count": 161,
     "metadata": {},
     "output_type": "execute_result"
    }
   ],
   "source": [
    "(qia*∂(qia) + qja*∂(qja)) |> expand_derivatives |> expand |> simplify"
   ]
  },
  {
   "cell_type": "code",
   "execution_count": 180,
   "id": "297a8bab",
   "metadata": {},
   "outputs": [
    {
     "data": {
      "text/latex": [
       "\\begin{equation}\n",
       "Qij \\left( Qi - Qj \\right) \\cos\\left( 4 \\theta \\right) + \\frac{1}{2} \\left( Qij^{2} - \\left( Qi - Qj \\right)^{2} \\right) \\sin\\left( 4 \\theta \\right)\n",
       "\\end{equation}\n"
      ],
      "text/plain": [
       "Qij*(Qi - Qj)*cos(4θ) + (1//2)*(Qij^2 - ((Qi - Qj)^2))*sin(4θ)"
      ]
     },
     "execution_count": 180,
     "metadata": {},
     "output_type": "execute_result"
    }
   ],
   "source": [
    "handsimp = Qij*(Qi-Qj)*cos(4θ) + (Qij^2 - (Qi - Qj)^2)*sin(4θ)/2"
   ]
  },
  {
   "cell_type": "markdown",
   "id": "c4634c06",
   "metadata": {},
   "source": [
    "### Verify numerically the equivalent between the raw equation and the hand simplified one"
   ]
  },
  {
   "cell_type": "code",
   "execution_count": 206,
   "id": "6dc53acf",
   "metadata": {},
   "outputs": [
    {
     "data": {
      "text/plain": [
       "2.7755575615628914e-17"
      ]
     },
     "execution_count": 206,
     "metadata": {},
     "output_type": "execute_result"
    }
   ],
   "source": [
    "N = 100\n",
    "xvals = zeros(N)\n",
    "for θval = collect(2π*(0:N)/N)\n",
    "    qival = randn()\n",
    "    qjval = randn()\n",
    "    qijval = randn()\n",
    "    x = substitute(dP, Dict([θ => θval, Qi=>qival, Qj=>qjval, Qij=>qijval]))\n",
    "    y = substitute(handsimp, Dict([θ => θval, Qi=>qival, Qj=>qjval, Qij=>qijval]))\n",
    "    xvals[N] = abs(x.val - 2*y.val)\n",
    "end\n",
    "maximum(xvals)"
   ]
  },
  {
   "cell_type": "markdown",
   "id": "87eed081",
   "metadata": {},
   "source": [
    "### Define\n",
    "\n",
    "$A = 2\\sum_{A} Q^A_{ij}(Q^A_i - Q^A_j)$\n",
    "\n",
    "$B = \\sum_A (Q^A_{ij})^2 - (Q^A_i - Q^A_j)^2$"
   ]
  },
  {
   "cell_type": "code",
   "execution_count": 185,
   "id": "bd868562",
   "metadata": {},
   "outputs": [
    {
     "data": {
      "text/plain": [
       "A (generic function with 1 method)"
      ]
     },
     "execution_count": 185,
     "metadata": {},
     "output_type": "execute_result"
    }
   ],
   "source": [
    "function A(Qij, Qi, Qj)\n",
    "    N = length(Qij)\n",
    "    2*sum(\n",
    "        Qij[i]*(Qi[i] - Qj[i]) for i = 1:N\n",
    "    )\n",
    "end"
   ]
  },
  {
   "cell_type": "code",
   "execution_count": 186,
   "id": "d69153c6",
   "metadata": {
    "scrolled": true
   },
   "outputs": [
    {
     "data": {
      "text/plain": [
       "B (generic function with 1 method)"
      ]
     },
     "execution_count": 186,
     "metadata": {},
     "output_type": "execute_result"
    }
   ],
   "source": [
    "function B(Qij, Qi, Qj)\n",
    "    N = length(Qij)\n",
    "    sum(\n",
    "        Qij[i]^2 - (Qi[i] - Qj[i])^2 for i = 1:N\n",
    "    )\n",
    "end"
   ]
  },
  {
   "cell_type": "code",
   "execution_count": 246,
   "id": "06641533",
   "metadata": {},
   "outputs": [
    {
     "data": {
      "text/plain": [
       "-4.801714581503802e-15"
      ]
     },
     "execution_count": 246,
     "metadata": {},
     "output_type": "execute_result"
    }
   ],
   "source": [
    "N = 1000\n",
    "qival = rand(N)\n",
    "qjval = rand(N)\n",
    "qijval = rand(N)\n",
    "Aval = A(qijval, qival, qjval)\n",
    "Bval = B(qijval, qival, qjval)\n",
    "α = atan(-Aval/Bval)/4\n",
    "s = 0.0\n",
    "for i = 1:N\n",
    "    x = substitute(dP, Dict([θ => α, Qi=>qival[i], Qj=>qjval[i], Qij=>qijval[i]]))\n",
    "    s += x.val\n",
    "end\n",
    "s"
   ]
  }
 ],
 "metadata": {
  "kernelspec": {
   "display_name": "Julia 1.6.1",
   "language": "julia",
   "name": "julia-1.6"
  },
  "language_info": {
   "file_extension": ".jl",
   "mimetype": "application/julia",
   "name": "julia",
   "version": "1.7.0"
  }
 },
 "nbformat": 4,
 "nbformat_minor": 5
}
